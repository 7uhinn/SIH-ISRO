{
 "cells": [
  {
   "cell_type": "code",
   "execution_count": 53,
   "metadata": {},
   "outputs": [],
   "source": [
    "import numpy as np\n",
    "import pandas as pd\n",
    "import gzip\n",
    "import matplotlib.pyplot as plt\n",
    "%matplotlib inline"
   ]
  },
  {
   "cell_type": "code",
   "execution_count": 54,
   "metadata": {},
   "outputs": [],
   "source": [
    "from bs4 import BeautifulSoup  \n",
    "import re\n",
    "import nltk\n",
    "from nltk.corpus import stopwords \n",
    "from nltk.stem.porter import PorterStemmer\n",
    "from nltk.stem import SnowballStemmer, WordNetLemmatizer\n",
    "from nltk import sent_tokenize, word_tokenize, pos_tag"
   ]
  },
  {
   "cell_type": "code",
   "execution_count": 55,
   "metadata": {},
   "outputs": [],
   "source": [
    "from sklearn.model_selection import train_test_split\n",
    "from sklearn.model_selection import GridSearchCV\n",
    "from sklearn.feature_extraction.text import TfidfVectorizer\n",
    "from sklearn.linear_model import LogisticRegression\n",
    "from sklearn.pipeline import Pipeline\n",
    "from sklearn.metrics import roc_auc_score, accuracy_score"
   ]
  },
  {
   "cell_type": "code",
   "execution_count": 56,
   "metadata": {},
   "outputs": [],
   "source": [
    "def parse(path):\n",
    "    g = gzip.open(path, 'rb')\n",
    "    for l in g:\n",
    "        yield eval(l)\n",
    "\n",
    "def getDF(path):\n",
    "    i = 0\n",
    "    df = {}\n",
    "    for d in parse(path):\n",
    "        df[i] = d\n",
    "        i += 1\n",
    "    return pd.DataFrame.from_dict(df, orient='index')\n",
    "\n",
    "df = getDF('reviews_Apps_for_Android_5.json.gz')"
   ]
  },
  {
   "cell_type": "code",
   "execution_count": 57,
   "metadata": {},
   "outputs": [
    {
     "data": {
      "text/html": [
       "<div>\n",
       "<style scoped>\n",
       "    .dataframe tbody tr th:only-of-type {\n",
       "        vertical-align: middle;\n",
       "    }\n",
       "\n",
       "    .dataframe tbody tr th {\n",
       "        vertical-align: top;\n",
       "    }\n",
       "\n",
       "    .dataframe thead th {\n",
       "        text-align: right;\n",
       "    }\n",
       "</style>\n",
       "<table border=\"1\" class=\"dataframe\">\n",
       "  <thead>\n",
       "    <tr style=\"text-align: right;\">\n",
       "      <th></th>\n",
       "      <th>reviewerID</th>\n",
       "      <th>asin</th>\n",
       "      <th>reviewerName</th>\n",
       "      <th>helpful</th>\n",
       "      <th>reviewText</th>\n",
       "      <th>overall</th>\n",
       "      <th>summary</th>\n",
       "      <th>unixReviewTime</th>\n",
       "      <th>reviewTime</th>\n",
       "    </tr>\n",
       "  </thead>\n",
       "  <tbody>\n",
       "    <tr>\n",
       "      <th>0</th>\n",
       "      <td>A1N4O8VOJZTDVB</td>\n",
       "      <td>B004A9SDD8</td>\n",
       "      <td>Annette Yancey</td>\n",
       "      <td>[1, 1]</td>\n",
       "      <td>Loves the song, so he really couldn't wait to ...</td>\n",
       "      <td>3.0</td>\n",
       "      <td>Really cute</td>\n",
       "      <td>1383350400</td>\n",
       "      <td>11 2, 2013</td>\n",
       "    </tr>\n",
       "    <tr>\n",
       "      <th>1</th>\n",
       "      <td>A2HQWU6HUKIEC7</td>\n",
       "      <td>B004A9SDD8</td>\n",
       "      <td>Audiobook lover \"Kathy\"</td>\n",
       "      <td>[0, 0]</td>\n",
       "      <td>Oh, how my little grandson loves this app. He'...</td>\n",
       "      <td>5.0</td>\n",
       "      <td>2-year-old loves it</td>\n",
       "      <td>1323043200</td>\n",
       "      <td>12 5, 2011</td>\n",
       "    </tr>\n",
       "    <tr>\n",
       "      <th>2</th>\n",
       "      <td>A1SXASF6GYG96I</td>\n",
       "      <td>B004A9SDD8</td>\n",
       "      <td>Barbara Gibbs</td>\n",
       "      <td>[0, 0]</td>\n",
       "      <td>I found this at a perfect time since my daught...</td>\n",
       "      <td>5.0</td>\n",
       "      <td>Fun game</td>\n",
       "      <td>1337558400</td>\n",
       "      <td>05 21, 2012</td>\n",
       "    </tr>\n",
       "    <tr>\n",
       "      <th>3</th>\n",
       "      <td>A2B54P9ZDYH167</td>\n",
       "      <td>B004A9SDD8</td>\n",
       "      <td>Brooke Greenstreet \"Babylove\"</td>\n",
       "      <td>[3, 4]</td>\n",
       "      <td>My 1 year old goes back to this game over and ...</td>\n",
       "      <td>5.0</td>\n",
       "      <td>We love our Monkeys!</td>\n",
       "      <td>1354752000</td>\n",
       "      <td>12 6, 2012</td>\n",
       "    </tr>\n",
       "    <tr>\n",
       "      <th>4</th>\n",
       "      <td>AFOFZDTX5UC6D</td>\n",
       "      <td>B004A9SDD8</td>\n",
       "      <td>C. Galindo</td>\n",
       "      <td>[1, 1]</td>\n",
       "      <td>There are three different versions of the song...</td>\n",
       "      <td>5.0</td>\n",
       "      <td>This is my granddaughters favorite app on my K...</td>\n",
       "      <td>1391212800</td>\n",
       "      <td>02 1, 2014</td>\n",
       "    </tr>\n",
       "  </tbody>\n",
       "</table>\n",
       "</div>"
      ],
      "text/plain": [
       "       reviewerID        asin                   reviewerName helpful  \\\n",
       "0  A1N4O8VOJZTDVB  B004A9SDD8                 Annette Yancey  [1, 1]   \n",
       "1  A2HQWU6HUKIEC7  B004A9SDD8        Audiobook lover \"Kathy\"  [0, 0]   \n",
       "2  A1SXASF6GYG96I  B004A9SDD8                  Barbara Gibbs  [0, 0]   \n",
       "3  A2B54P9ZDYH167  B004A9SDD8  Brooke Greenstreet \"Babylove\"  [3, 4]   \n",
       "4   AFOFZDTX5UC6D  B004A9SDD8                     C. Galindo  [1, 1]   \n",
       "\n",
       "                                          reviewText  overall  \\\n",
       "0  Loves the song, so he really couldn't wait to ...      3.0   \n",
       "1  Oh, how my little grandson loves this app. He'...      5.0   \n",
       "2  I found this at a perfect time since my daught...      5.0   \n",
       "3  My 1 year old goes back to this game over and ...      5.0   \n",
       "4  There are three different versions of the song...      5.0   \n",
       "\n",
       "                                             summary  unixReviewTime  \\\n",
       "0                                        Really cute      1383350400   \n",
       "1                                2-year-old loves it      1323043200   \n",
       "2                                           Fun game      1337558400   \n",
       "3                               We love our Monkeys!      1354752000   \n",
       "4  This is my granddaughters favorite app on my K...      1391212800   \n",
       "\n",
       "    reviewTime  \n",
       "0   11 2, 2013  \n",
       "1   12 5, 2011  \n",
       "2  05 21, 2012  \n",
       "3   12 6, 2012  \n",
       "4   02 1, 2014  "
      ]
     },
     "execution_count": 57,
     "metadata": {},
     "output_type": "execute_result"
    }
   ],
   "source": [
    "df.head(5)"
   ]
  },
  {
   "cell_type": "code",
   "execution_count": 58,
   "metadata": {},
   "outputs": [
    {
     "name": "stdout",
     "output_type": "stream",
     "text": [
      "Summary statistics of numerical features : \n",
      "              overall  unixReviewTime\n",
      "count  752937.000000    7.529370e+05\n",
      "mean        3.968931    1.368442e+09\n",
      "std         1.342484    2.342230e+07\n",
      "min         1.000000    1.134778e+09\n",
      "25%         3.000000    1.354147e+09\n",
      "50%         5.000000    1.370477e+09\n",
      "75%         5.000000    1.388448e+09\n",
      "max         5.000000    1.406074e+09\n",
      "\n",
      "Total number of reviews:  752937\n",
      "\n",
      "Total number of unique products:  13209\n",
      "\n",
      "Percentage of reviews with neutral sentiment : 11.31%\n",
      "\n",
      "Percentage of reviews with positive sentiment : 72.35%\n",
      "\n",
      "Percentage of reviews with negative sentiment : 16.35%\n"
     ]
    }
   ],
   "source": [
    "print(\"Summary statistics of numerical features : \\n\", df.describe())\n",
    "\n",
    "print(\"\\nTotal number of reviews: \",len(df))\n",
    "print(\"\\nTotal number of unique products: \", len(list(set(df['asin']))))\n",
    "\n",
    "print(\"\\nPercentage of reviews with neutral sentiment : {:.2f}%\"\\\n",
    "      .format(df[df['overall']==3][\"reviewText\"].count()/len(df)*100))\n",
    "print(\"\\nPercentage of reviews with positive sentiment : {:.2f}%\"\\\n",
    "      .format(df[df['overall']>3][\"reviewText\"].count()/len(df)*100))\n",
    "print(\"\\nPercentage of reviews with negative sentiment : {:.2f}%\"\\\n",
    "      .format(df[df['overall']<3][\"reviewText\"].count()/len(df)*100))"
   ]
  },
  {
   "cell_type": "code",
   "execution_count": 59,
   "metadata": {},
   "outputs": [
    {
     "data": {
      "text/plain": [
       "Text(0, 0.5, 'Count')"
      ]
     },
     "execution_count": 59,
     "metadata": {},
     "output_type": "execute_result"
    },
    {
     "data": {
      "image/png": "[encoded data removed]",
      "text/plain": [
       "<Figure size 864x576 with 1 Axes>"
      ]
     },
     "metadata": {
      "needs_background": "light"
     },
     "output_type": "display_data"
    }
   ],
   "source": [
    "# Plot distribution of rating\n",
    "plt.figure(figsize=(12,8))\n",
    "# sns.countplot(df['Rating'])\n",
    "df['overall'].value_counts().sort_index().plot(kind='bar')\n",
    "plt.title('Distribution of Rating')\n",
    "plt.xlabel('Rating')\n",
    "plt.ylabel('Count')"
   ]
  },
  {
   "cell_type": "code",
   "execution_count": 60,
   "metadata": {},
   "outputs": [
    {
     "data": {
      "text/html": [
       "<div>\n",
       "<style scoped>\n",
       "    .dataframe tbody tr th:only-of-type {\n",
       "        vertical-align: middle;\n",
       "    }\n",
       "\n",
       "    .dataframe tbody tr th {\n",
       "        vertical-align: top;\n",
       "    }\n",
       "\n",
       "    .dataframe thead th {\n",
       "        text-align: right;\n",
       "    }\n",
       "</style>\n",
       "<table border=\"1\" class=\"dataframe\">\n",
       "  <thead>\n",
       "    <tr style=\"text-align: right;\">\n",
       "      <th></th>\n",
       "      <th>reviewerID</th>\n",
       "      <th>asin</th>\n",
       "      <th>reviewerName</th>\n",
       "      <th>helpful</th>\n",
       "      <th>reviewText</th>\n",
       "      <th>overall</th>\n",
       "      <th>summary</th>\n",
       "      <th>unixReviewTime</th>\n",
       "      <th>reviewTime</th>\n",
       "      <th>Sentiment</th>\n",
       "    </tr>\n",
       "  </thead>\n",
       "  <tbody>\n",
       "    <tr>\n",
       "      <th>593193</th>\n",
       "      <td>AJOTI18QFM0U9</td>\n",
       "      <td>B00CXBSYVG</td>\n",
       "      <td>Buckleshoe</td>\n",
       "      <td>[0, 0]</td>\n",
       "      <td>Enjoy playing Bingo Blast a bit slow but it is...</td>\n",
       "      <td>5.0</td>\n",
       "      <td>bingo blast</td>\n",
       "      <td>1391040000</td>\n",
       "      <td>01 30, 2014</td>\n",
       "      <td>1</td>\n",
       "    </tr>\n",
       "    <tr>\n",
       "      <th>226970</th>\n",
       "      <td>A1KYB5V7M5QWUG</td>\n",
       "      <td>B007BUTTSQ</td>\n",
       "      <td>Kidz</td>\n",
       "      <td>[0, 0]</td>\n",
       "      <td>It's a simple puzzle, easy to do, and doesn't ...</td>\n",
       "      <td>4.0</td>\n",
       "      <td>Beautiful butterflys</td>\n",
       "      <td>1389484800</td>\n",
       "      <td>01 12, 2014</td>\n",
       "      <td>1</td>\n",
       "    </tr>\n",
       "    <tr>\n",
       "      <th>325965</th>\n",
       "      <td>A2NOW4U7W3F7RI</td>\n",
       "      <td>B008CPZNL6</td>\n",
       "      <td>rpv</td>\n",
       "      <td>[0, 0]</td>\n",
       "      <td>There are several news reading apps - news.goo...</td>\n",
       "      <td>5.0</td>\n",
       "      <td>Good News consumption app</td>\n",
       "      <td>1352937600</td>\n",
       "      <td>11 15, 2012</td>\n",
       "      <td>1</td>\n",
       "    </tr>\n",
       "    <tr>\n",
       "      <th>193367</th>\n",
       "      <td>A1NRIGFSHOH79A</td>\n",
       "      <td>B006PHD0RW</td>\n",
       "      <td>Derby</td>\n",
       "      <td>[0, 0]</td>\n",
       "      <td>Love this game.  Hard and extremely frustratin...</td>\n",
       "      <td>5.0</td>\n",
       "      <td>SO addictive!!!!</td>\n",
       "      <td>1329609600</td>\n",
       "      <td>02 19, 2012</td>\n",
       "      <td>1</td>\n",
       "    </tr>\n",
       "    <tr>\n",
       "      <th>142254</th>\n",
       "      <td>A165JY8H5LURGM</td>\n",
       "      <td>B0064B3QNC</td>\n",
       "      <td>plum0214</td>\n",
       "      <td>[0, 0]</td>\n",
       "      <td>This is a fun game. It is not for kids,the tit...</td>\n",
       "      <td>4.0</td>\n",
       "      <td>Fun game for adults</td>\n",
       "      <td>1380153600</td>\n",
       "      <td>09 26, 2013</td>\n",
       "      <td>1</td>\n",
       "    </tr>\n",
       "    <tr>\n",
       "      <th>458789</th>\n",
       "      <td>A1I5U9TN1MTJBN</td>\n",
       "      <td>B00A7V0LWE</td>\n",
       "      <td>Rayla J. Larghe</td>\n",
       "      <td>[1, 1]</td>\n",
       "      <td>Good to have and easy to use. Very good progra...</td>\n",
       "      <td>5.0</td>\n",
       "      <td>English Dictionary &amp; Thesaurus.</td>\n",
       "      <td>1398038400</td>\n",
       "      <td>04 21, 2014</td>\n",
       "      <td>1</td>\n",
       "    </tr>\n",
       "    <tr>\n",
       "      <th>37875</th>\n",
       "      <td>A15P5OELEQUZR8</td>\n",
       "      <td>B004S33RRI</td>\n",
       "      <td>chancy319</td>\n",
       "      <td>[0, 0]</td>\n",
       "      <td>This app does what it says and SO MUCH MORE! T...</td>\n",
       "      <td>4.0</td>\n",
       "      <td>Excellent app. Ignore the 1 star reviews.</td>\n",
       "      <td>1303171200</td>\n",
       "      <td>04 19, 2011</td>\n",
       "      <td>1</td>\n",
       "    </tr>\n",
       "    <tr>\n",
       "      <th>74864</th>\n",
       "      <td>A2VV9X8R1ERE1H</td>\n",
       "      <td>B004Z92T9W</td>\n",
       "      <td>Amazon Customer</td>\n",
       "      <td>[3, 4]</td>\n",
       "      <td>The old Frogger has returned.  Remember when A...</td>\n",
       "      <td>3.0</td>\n",
       "      <td>Frogger</td>\n",
       "      <td>1356739200</td>\n",
       "      <td>12 29, 2012</td>\n",
       "      <td>0</td>\n",
       "    </tr>\n",
       "    <tr>\n",
       "      <th>435508</th>\n",
       "      <td>A1GBBV360M7I5H</td>\n",
       "      <td>B009UX2YAC</td>\n",
       "      <td>paeton</td>\n",
       "      <td>[0, 0]</td>\n",
       "      <td>I love it!  It is so addicting. 100% worth it....</td>\n",
       "      <td>5.0</td>\n",
       "      <td>AWESOME</td>\n",
       "      <td>1370131200</td>\n",
       "      <td>06 2, 2013</td>\n",
       "      <td>1</td>\n",
       "    </tr>\n",
       "    <tr>\n",
       "      <th>89046</th>\n",
       "      <td>A1XSZG1I6V5Z55</td>\n",
       "      <td>B0055EIQBG</td>\n",
       "      <td>James Holcomb</td>\n",
       "      <td>[2, 5]</td>\n",
       "      <td>like angry birds,or rocket bunnies,or stardunk...</td>\n",
       "      <td>2.0</td>\n",
       "      <td>There are *much* better ways to spend your tim...</td>\n",
       "      <td>1311379200</td>\n",
       "      <td>07 23, 2011</td>\n",
       "      <td>0</td>\n",
       "    </tr>\n",
       "  </tbody>\n",
       "</table>\n",
       "</div>"
      ],
      "text/plain": [
       "            reviewerID        asin     reviewerName helpful  \\\n",
       "593193   AJOTI18QFM0U9  B00CXBSYVG       Buckleshoe  [0, 0]   \n",
       "226970  A1KYB5V7M5QWUG  B007BUTTSQ             Kidz  [0, 0]   \n",
       "325965  A2NOW4U7W3F7RI  B008CPZNL6              rpv  [0, 0]   \n",
       "193367  A1NRIGFSHOH79A  B006PHD0RW            Derby  [0, 0]   \n",
       "142254  A165JY8H5LURGM  B0064B3QNC         plum0214  [0, 0]   \n",
       "458789  A1I5U9TN1MTJBN  B00A7V0LWE  Rayla J. Larghe  [1, 1]   \n",
       "37875   A15P5OELEQUZR8  B004S33RRI        chancy319  [0, 0]   \n",
       "74864   A2VV9X8R1ERE1H  B004Z92T9W  Amazon Customer  [3, 4]   \n",
       "435508  A1GBBV360M7I5H  B009UX2YAC           paeton  [0, 0]   \n",
       "89046   A1XSZG1I6V5Z55  B0055EIQBG    James Holcomb  [2, 5]   \n",
       "\n",
       "                                               reviewText  overall  \\\n",
       "593193  Enjoy playing Bingo Blast a bit slow but it is...      5.0   \n",
       "226970  It's a simple puzzle, easy to do, and doesn't ...      4.0   \n",
       "325965  There are several news reading apps - news.goo...      5.0   \n",
       "193367  Love this game.  Hard and extremely frustratin...      5.0   \n",
       "142254  This is a fun game. It is not for kids,the tit...      4.0   \n",
       "458789  Good to have and easy to use. Very good progra...      5.0   \n",
       "37875   This app does what it says and SO MUCH MORE! T...      4.0   \n",
       "74864   The old Frogger has returned.  Remember when A...      3.0   \n",
       "435508  I love it!  It is so addicting. 100% worth it....      5.0   \n",
       "89046   like angry birds,or rocket bunnies,or stardunk...      2.0   \n",
       "\n",
       "                                                  summary  unixReviewTime  \\\n",
       "593193                                        bingo blast      1391040000   \n",
       "226970                               Beautiful butterflys      1389484800   \n",
       "325965                          Good News consumption app      1352937600   \n",
       "193367                                   SO addictive!!!!      1329609600   \n",
       "142254                                Fun game for adults      1380153600   \n",
       "458789                    English Dictionary & Thesaurus.      1398038400   \n",
       "37875           Excellent app. Ignore the 1 star reviews.      1303171200   \n",
       "74864                                             Frogger      1356739200   \n",
       "435508                                            AWESOME      1370131200   \n",
       "89046   There are *much* better ways to spend your tim...      1311379200   \n",
       "\n",
       "         reviewTime  Sentiment  \n",
       "593193  01 30, 2014          1  \n",
       "226970  01 12, 2014          1  \n",
       "325965  11 15, 2012          1  \n",
       "193367  02 19, 2012          1  \n",
       "142254  09 26, 2013          1  \n",
       "458789  04 21, 2014          1  \n",
       "37875   04 19, 2011          1  \n",
       "74864   12 29, 2012          0  \n",
       "435508   06 2, 2013          1  \n",
       "89046   07 23, 2011          0  "
      ]
     },
     "execution_count": 60,
     "metadata": {},
     "output_type": "execute_result"
    }
   ],
   "source": [
    "dfs = df.sample(frac=0.01, random_state=0)\n",
    "#dfs = df\n",
    "\n",
    "# Drop missing values\n",
    "dfs.dropna(inplace=True)\n",
    "\n",
    "# Remove any 'neutral' ratings equal to 3\n",
    "df = df[df['overall'] != 3]\n",
    "\n",
    "# Encode 4s and 5s as 1 (positive sentiment) and 1s and 2s as 0 (negative sentiment)\n",
    "dfs['Sentiment'] = np.where(dfs['overall'] > 3, 1, 0)\n",
    "dfs.head(10)\n"
   ]
  },
  {
   "cell_type": "code",
   "execution_count": 61,
   "metadata": {},
   "outputs": [
    {
     "name": "stdout",
     "output_type": "stream",
     "text": [
      "Load 6257 training examples and 696 validation examples. \n",
      "\n",
      "Show a review in the training set : \n",
      " GREAT GAME. PROBLEM: ALL CROPS, BUSINESSES ANIMALS OVER 160 HRS. TO COLLECT. SPENT A LOT OF MONEY TO BUY CASH I FEEL FOR NOTHING NOW!  HOW DO YOU GET NEIGHBORS?\n"
     ]
    }
   ],
   "source": [
    "# Split data into training set and validation\n",
    "X_train, X_test, y_train, y_test = train_test_split(dfs['reviewText'], dfs['Sentiment'], \\\n",
    "                                                    test_size=0.1, random_state=0)\n",
    "\n",
    "print('Load %d training examples and %d validation examples. \\n' %(X_train.shape[0],X_test.shape[0]))\n",
    "print('Show a review in the training set : \\n', X_train.iloc[10])"
   ]
  },
  {
   "cell_type": "code",
   "execution_count": 62,
   "metadata": {},
   "outputs": [],
   "source": [
    "def cleanText(raw_text, remove_stopwords=False, stemming=False, split_text=False, \\\n",
    "             ):\n",
    "    '''\n",
    "    Convert a raw review to a cleaned review\n",
    "    '''\n",
    "    #text = BeautifulSoup(raw_text, 'lxml').get_text()  #remove html\n",
    "    letters_only = re.sub(\"[^a-zA-Z]\", \" \", raw_text)  # remove non-character\n",
    "    words = letters_only.lower().split() # convert to lower case \n",
    "    \n",
    "    if remove_stopwords: # remove stopword\n",
    "        stops = set(stopwords.words(\"english\"))\n",
    "        words = [w for w in words if not w in stops]\n",
    "        \n",
    "    if stemming==True: # stemming\n",
    "#         stemmer = PorterStemmer()\n",
    "        stemmer = SnowballStemmer('english') \n",
    "        words = [stemmer.stem(w) for w in words]\n",
    "        \n",
    "    if split_text==True:  # split text\n",
    "        return (words)\n",
    "    \n",
    "    return( \" \".join(words))"
   ]
  },
  {
   "cell_type": "code",
   "execution_count": 63,
   "metadata": {},
   "outputs": [
    {
     "name": "stdout",
     "output_type": "stream",
     "text": [
      "Show a cleaned review in the training set : \n",
      " great game problem all crops businesses animals over hrs to collect spent a lot of money to buy cash i feel for nothing now how do you get neighbors\n"
     ]
    }
   ],
   "source": [
    "# Preprocess text data in training set and validation set\n",
    "X_train_cleaned = []\n",
    "X_test_cleaned = []\n",
    "\n",
    "for d in X_train:\n",
    "    X_train_cleaned.append(cleanText(d))\n",
    "print('Show a cleaned review in the training set : \\n',  X_train_cleaned[10])\n",
    "    \n",
    "for d in X_test:\n",
    "    X_test_cleaned.append(cleanText(d))"
   ]
  },
  {
   "cell_type": "code",
   "execution_count": 64,
   "metadata": {},
   "outputs": [],
   "source": [
    "def modelEvaluation(predictions):\n",
    "    '''\n",
    "    Print model evaluation to predicted result \n",
    "    '''\n",
    "    print (\"\\nAccuracy on validation set: {:.4f}\".format(accuracy_score(y_test, predictions)))\n",
    "    print(\"\\nAUC score : {:.4f}\".format(roc_auc_score(y_test, predictions)))"
   ]
  },
  {
   "cell_type": "code",
   "execution_count": 65,
   "metadata": {},
   "outputs": [],
   "source": [
    "import time"
   ]
  },
  {
   "cell_type": "code",
   "execution_count": 66,
   "metadata": {},
   "outputs": [
    {
     "name": "stdout",
     "output_type": "stream",
     "text": [
      "The best paramenter set is : \n",
      " {'lr__C': 10, 'tfidf__max_features': None, 'tfidf__min_df': 1, 'tfidf__ngram_range': (1, 2), 'tfidf__stop_words': None}\n",
      "Time elapsed during the calculation: 113.12941643299928\n"
     ]
    }
   ],
   "source": [
    "start = time.perf_counter() \n",
    "\n",
    "\n",
    "# Building a pipeline\n",
    "estimators = [(\"tfidf\", TfidfVectorizer()), (\"lr\", LogisticRegression())]\n",
    "model = Pipeline(estimators)\n",
    "\n",
    "\n",
    "# Grid search\n",
    "params = {\"lr__C\":[0.1, 1, 10], #regularization param of logistic regression\n",
    "          \"tfidf__min_df\": [1, 3], #min count of words \n",
    "          \"tfidf__max_features\": [1000, None], #max features\n",
    "          \"tfidf__ngram_range\": [(1,1), (1,2)], #1-grams or 2-grams\n",
    "          \"tfidf__stop_words\": [None, \"english\"]} #use stopwords or don't\n",
    "\n",
    "grid = GridSearchCV(estimator=model, param_grid=params, scoring=\"accuracy\", n_jobs=-1)\n",
    "grid.fit(X_train_cleaned, y_train)\n",
    "print(\"The best paramenter set is : \\n\", grid.best_params_)\n",
    "\n",
    "\n",
    "# Evaluate on the validaton set\n",
    "predictions = grid.predict(X_test_cleaned)\n",
    "\n",
    "end = time.perf_counter()  \n",
    " \n",
    "print(\"Time elapsed during the calculation:\", end - start) "
   ]
  },
  {
   "cell_type": "code",
   "execution_count": 67,
   "metadata": {},
   "outputs": [
    {
     "name": "stdout",
     "output_type": "stream",
     "text": [
      "\n",
      "Accuracy on validation set: 0.8405\n",
      "\n",
      "AUC score : 0.7568\n"
     ]
    }
   ],
   "source": [
    "modelEvaluation(predictions)"
   ]
  },
  {
   "cell_type": "code",
   "execution_count": 68,
   "metadata": {},
   "outputs": [
    {
     "data": {
      "text/plain": [
       "array([1, 0, 0])"
      ]
     },
     "execution_count": 68,
     "metadata": {},
     "output_type": "execute_result"
    }
   ],
   "source": [
    "reviews = ['this is a very nice product i am delighted that i bought it','awful how can someone make an app so bad bc','i like the app but it could have been better']\n",
    "res= grid.predict(reviews)\n",
    "res"
   ]
  },
  {
   "cell_type": "code",
   "execution_count": 69,
   "metadata": {},
   "outputs": [],
   "source": []
  },
  {
   "cell_type": "code",
   "execution_count": 71,
   "metadata": {},
   "outputs": [],
   "source": []
  },
  {
   "cell_type": "code",
   "execution_count": null,
   "metadata": {},
   "outputs": [],
   "source": []
  }
 ],
 "metadata": {
  "kernelspec": {
   "display_name": "Python 3",
   "language": "python",
   "name": "python3"
  },
  "language_info": {
   "codemirror_mode": {
    "name": "ipython",
    "version": 3
   },
   "file_extension": ".py",
   "mimetype": "text/x-python",
   "name": "python",
   "nbconvert_exporter": "python",
   "pygments_lexer": "ipython3",
   "version": "3.8.1"
  }
 },
 "nbformat": 4,
 "nbformat_minor": 4
}
